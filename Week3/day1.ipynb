{
 "cells": [
  {
   "cell_type": "code",
   "execution_count": null,
   "metadata": {},
   "outputs": [],
   "source": [
    "%matplotlib inline\n",
    "import numpy\n",
    "import matplotlib\n",
    "\n",
    "for line in open(\"file.txt\"):\n",
    "    for word in line.split():\n",
    "        if word.endswith('ing'):\n",
    "            print(word)"
   ]
  },
  {
   "cell_type": "code",
   "execution_count": 4,
   "metadata": {},
   "outputs": [
    {
     "name": "stdout",
     "output_type": "stream",
     "text": [
      "showing info https://raw.githubusercontent.com/nltk/nltk_data/gh-pages/index.xml\n"
     ]
    },
    {
     "data": {
      "text/plain": [
       "True"
      ]
     },
     "execution_count": 4,
     "metadata": {},
     "output_type": "execute_result"
    }
   ],
   "source": [
    "import nltk\n",
    "nltk.download()"
   ]
  },
  {
   "cell_type": "code",
   "execution_count": 1,
   "metadata": {},
   "outputs": [
    {
     "name": "stdout",
     "output_type": "stream",
     "text": [
      "*** Introductory Examples for the NLTK Book ***\n",
      "Loading text1, ..., text9 and sent1, ..., sent9\n",
      "Type the name of the text or sentence to view it.\n",
      "Type: 'texts()' or 'sents()' to list the materials.\n",
      "text1: Moby Dick by Herman Melville 1851\n",
      "text2: Sense and Sensibility by Jane Austen 1811\n",
      "text3: The Book of Genesis\n",
      "text4: Inaugural Address Corpus\n",
      "text5: Chat Corpus\n",
      "text6: Monty Python and the Holy Grail\n",
      "text7: Wall Street Journal\n",
      "text8: Personals Corpus\n",
      "text9: The Man Who Was Thursday by G . K . Chesterton 1908\n"
     ]
    }
   ],
   "source": [
    "from nltk.book import *\n",
    "# * means everything or all"
   ]
  },
  {
   "cell_type": "code",
   "execution_count": 3,
   "metadata": {},
   "outputs": [
    {
     "name": "stdout",
     "output_type": "stream",
     "text": [
      "text1: Moby Dick by Herman Melville 1851\n",
      "text2: Sense and Sensibility by Jane Austen 1811\n",
      "text3: The Book of Genesis\n",
      "text4: Inaugural Address Corpus\n",
      "text5: Chat Corpus\n",
      "text6: Monty Python and the Holy Grail\n",
      "text7: Wall Street Journal\n",
      "text8: Personals Corpus\n",
      "text9: The Man Who Was Thursday by G . K . Chesterton 1908\n"
     ]
    }
   ],
   "source": [
    "texts()\n",
    "# 9 texts in our memory"
   ]
  },
  {
   "cell_type": "code",
   "execution_count": 4,
   "metadata": {},
   "outputs": [
    {
     "data": {
      "text/plain": [
       "<Text: Moby Dick by Herman Melville 1851>"
      ]
     },
     "execution_count": 4,
     "metadata": {},
     "output_type": "execute_result"
    }
   ],
   "source": [
    "text1 #we have access to the text in memory "
   ]
  },
  {
   "cell_type": "code",
   "execution_count": 5,
   "metadata": {},
   "outputs": [
    {
     "name": "stdout",
     "output_type": "stream",
     "text": [
      "sent1: Call me Ishmael .\n",
      "sent2: The family of Dashwood had long been settled in Sussex .\n",
      "sent3: In the beginning God created the heaven and the earth .\n",
      "sent4: Fellow - Citizens of the Senate and of the House of Representatives :\n",
      "sent5: I have a problem with people PMing me to lol JOIN\n",
      "sent6: SCENE 1 : [ wind ] [ clop clop clop ] KING ARTHUR : Whoa there !\n",
      "sent7: Pierre Vinken , 61 years old , will join the board as a nonexecutive director Nov. 29 .\n",
      "sent8: 25 SEXY MALE , seeks attrac older single lady , for discreet encounters .\n",
      "sent9: THE suburb of Saffron Park lay on the sunset side of London , as red and ragged as a cloud of sunset .\n"
     ]
    }
   ],
   "source": [
    "sents()"
   ]
  },
  {
   "cell_type": "code",
   "execution_count": 6,
   "metadata": {},
   "outputs": [
    {
     "name": "stdout",
     "output_type": "stream",
     "text": [
      "Displaying 11 of 11 matches:\n",
      "ong the former , one was of a most monstrous size . ... This came towards us , \n",
      "ON OF THE PSALMS . \" Touching that monstrous bulk of the whale or ork we have r\n",
      "ll over with a heathenish array of monstrous clubs and spears . Some were thick\n",
      "d as you gazed , and wondered what monstrous cannibal and savage could ever hav\n",
      "that has survived the flood ; most monstrous and most mountainous ! That Himmal\n",
      "they might scout at Moby Dick as a monstrous fable , or still worse and more de\n",
      "th of Radney .'\" CHAPTER 55 Of the Monstrous Pictures of Whales . I shall ere l\n",
      "ing Scenes . In connexion with the monstrous pictures of whales , I am strongly\n",
      "ere to enter upon those still more monstrous stories of them which are to be fo\n",
      "ght have been rummaged out of this monstrous cabinet there is no telling . But \n",
      "of Whale - Bones ; for Whales of a monstrous size are oftentimes cast up dead u\n"
     ]
    }
   ],
   "source": [
    "text1.concordance('monstrous')"
   ]
  },
  {
   "cell_type": "code",
   "execution_count": 7,
   "metadata": {},
   "outputs": [
    {
     "name": "stdout",
     "output_type": "stream",
     "text": [
      "Displaying 25 of 25 matches:\n",
      "els sing ] Arthur , this is the Holy Grail . Look well , Arthur , for it is you\n",
      " it is your sacred task to seek this grail . That is your purpose , Arthur ... \n",
      " , Arthur ... the quest for the Holy Grail . [ boom ] [ singing stops ] LAUNCEL\n",
      "an join us in our quest for the Holy Grail . FRENCH GUARD : Well , I ' ll ask h\n",
      "ARTHUR : If you will not show us the Grail , we shall take your castle by force\n",
      "s required if the quest for the Holy Grail were to be brought to a successful c\n",
      "should separate , and search for the Grail individually . [ clop clop clop ] No\n",
      "AD : You are the keepers of the Holy Grail ? ZOOT : The what ? GALAHAD : The Gr\n",
      "il ? ZOOT : The what ? GALAHAD : The Grail . It is here . ZOOT : Oh , but you a\n",
      "ease ! In God ' s name , show me the Grail ! ZOOT : Oh , you have suffered much\n",
      "rment me no longer . I have seen the Grail ! PIGLET : There ' s no grail here .\n",
      "en the Grail ! PIGLET : There ' s no grail here . GALAHAD : I have seen it ! I \n",
      "are you going ? GALAHAD : I seek the Grail ! I have seen it , here in this cast\n",
      " which , I have just remembered , is grail - shaped . It ' s not the first time\n",
      "blem . GALAHAD : It ' s not the real Grail ? DINGO : Oh , wicked , bad , naught\n",
      "ne punishment for setting alight the grail - shaped beacon . You must tie her d\n",
      " : No , we ' ve got to find the Holy Grail . Come on ! GALAHAD : Oh , let me ha\n",
      " , but they were still no nearer the Grail . Meanwhile , King Arthur and Sir Be\n",
      " of whom you speak , he has seen the Grail ? OLD MAN : ... Ha ha ha ha ! Heh , \n",
      "o man has entered . ARTHUR : And the Grail . The Grail is there ? OLD MAN : The\n",
      "tered . ARTHUR : And the Grail . The Grail is there ? OLD MAN : There is much d\n",
      " has ever crossed . ARTHUR : But the Grail ! Where is the Grail ?! OLD MAN : Se\n",
      "RTHUR : But the Grail ! Where is the Grail ?! OLD MAN : Seek you the Bridge of \n",
      "Bridge of Death , which leads to the Grail ? OLD MAN : Heh , hee hee hee hee ! \n",
      "e the sign that leads us to the Holy Grail ! Brave , brave Concorde , you shall\n"
     ]
    }
   ],
   "source": [
    "text6.concordance('Grail')"
   ]
  },
  {
   "cell_type": "code",
   "execution_count": 8,
   "metadata": {},
   "outputs": [
    {
     "name": "stdout",
     "output_type": "stream",
     "text": [
      "Displaying 21 of 21 matches:\n",
      "D God had taken from man , made he a woman , and brought her unto the man . And\n",
      " flesh of my fle she shall be called Woman , because she was taken out of Man .\n",
      " God had made . And he said unto the woman , Yea , hath God said , Ye shall not\n",
      "f every tree of the garden ? And the woman said unto the serpent , We may eat o\n",
      " die . And the serpent said unto the woman , Ye shall not surely die : For God \n",
      "knowing good and evil . And when the woman saw that the tree was good for food \n",
      "est not eat ? And the man said , The woman whom thou gavest to be with me , she\n",
      "eat . And the LORD God said unto the woman , What is this that thou hast done ?\n",
      "s this that thou hast done ? And the woman said , The serpent beguiled me , and\n",
      "will put enmity between thee and the woman , and between thy seed and her seed \n",
      "hou shalt bruise his heel . Unto the woman he said , I will greatly multiply th\n",
      "ld now , I know that thou art a fair woman to look up Therefore it shall come t\n",
      "nto Egypt , the Egyptians beheld the woman that she was very fair . The princes\n",
      "d commended her before Phara and the woman was taken into Pharaoh ' s house . A\n",
      " , thou art but a dead man , for the woman which thou hast taken ; for she is a\n",
      "ant said unto him , Peradventure the woman will not be willing to follow me unt\n",
      "unto my son from thence . And if the woman will not be willing to follow thee ,\n",
      "id unto my master , Peradventure the woman will not follow me . And he said unt\n",
      "raw for thy came let the same be the woman whom the LORD hath appointed out for\n",
      "ite , to receive his pledge from the woman ' s ha but he found her not . Then h\n",
      ", and Shaul the son of a Canaanitish woman . And the sons of Levi ; Gershon , K\n"
     ]
    }
   ],
   "source": [
    "text3.concordance('woman')\n",
    "#text3.concordance('man')"
   ]
  },
  {
   "cell_type": "markdown",
   "metadata": {},
   "source": [
    "Optional HW: Write your own concordance()"
   ]
  },
  {
   "cell_type": "code",
   "execution_count": 23,
   "metadata": {},
   "outputs": [
    {
     "name": "stdout",
     "output_type": "stream",
     "text": [
      "Collecting numpy\n",
      "  Downloading https://files.pythonhosted.org/packages/53/d1/2499797c88de95ea3239ad7f6e6a47895fe51aad1aa2a116f50ec9e0ee74/numpy-1.15.0-cp36-none-win_amd64.whl (13.5MB)\n",
      "Installing collected packages: numpy\n",
      "Successfully installed numpy-1.15.0\n"
     ]
    }
   ],
   "source": [
    "import sys\n",
    "!{sys.executable} -m pip install numpy"
   ]
  },
  {
   "cell_type": "code",
   "execution_count": 24,
   "metadata": {},
   "outputs": [
    {
     "name": "stdout",
     "output_type": "stream",
     "text": [
      "Collecting matplotlib\n",
      "  Downloading https://files.pythonhosted.org/packages/bf/b9/485032835e979ee11d514bb3b9b0543a928b8b96c099c178aeab1d2ba861/matplotlib-2.2.2-cp36-cp36m-win_amd64.whl (8.7MB)\n",
      "Requirement already satisfied: numpy>=1.7.1 in c:\\users\\sofia\\appdata\\local\\programs\\python\\python36\\lib\\site-packages (from matplotlib) (1.15.0)\n",
      "Requirement already satisfied: python-dateutil>=2.1 in c:\\users\\sofia\\appdata\\local\\programs\\python\\python36\\lib\\site-packages (from matplotlib) (2.7.3)\n",
      "Collecting cycler>=0.10 (from matplotlib)\n",
      "  Downloading https://files.pythonhosted.org/packages/f7/d2/e07d3ebb2bd7af696440ce7e754c59dd546ffe1bbe732c8ab68b9c834e61/cycler-0.10.0-py2.py3-none-any.whl\n",
      "Collecting pytz (from matplotlib)\n",
      "  Downloading https://files.pythonhosted.org/packages/30/4e/27c34b62430286c6d59177a0842ed90dc789ce5d1ed740887653b898779a/pytz-2018.5-py2.py3-none-any.whl (510kB)\n",
      "Requirement already satisfied: six>=1.10 in c:\\users\\sofia\\appdata\\local\\programs\\python\\python36\\lib\\site-packages (from matplotlib) (1.11.0)\n",
      "Collecting pyparsing!=2.0.4,!=2.1.2,!=2.1.6,>=2.0.1 (from matplotlib)\n",
      "  Downloading https://files.pythonhosted.org/packages/6a/8a/718fd7d3458f9fab8e67186b00abdd345b639976bc7fb3ae722e1b026a50/pyparsing-2.2.0-py2.py3-none-any.whl (56kB)\n",
      "Collecting kiwisolver>=1.0.1 (from matplotlib)\n",
      "  Downloading https://files.pythonhosted.org/packages/44/72/16630c3392eba03788ad87949390516bbc488e8e118047a3b824631d21a6/kiwisolver-1.0.1-cp36-none-win_amd64.whl (57kB)\n",
      "Requirement already satisfied: setuptools in c:\\users\\sofia\\appdata\\local\\programs\\python\\python36\\lib\\site-packages (from kiwisolver>=1.0.1->matplotlib) (28.8.0)\n",
      "Installing collected packages: cycler, pytz, pyparsing, kiwisolver, matplotlib\n",
      "Successfully installed cycler-0.10.0 kiwisolver-1.0.1 matplotlib-2.2.2 pyparsing-2.2.0 pytz-2018.5\n"
     ]
    }
   ],
   "source": [
    "import sys\n",
    "!{sys.executable} -m pip install matplotlib"
   ]
  },
  {
   "cell_type": "code",
   "execution_count": 26,
   "metadata": {},
   "outputs": [
    {
     "data": {
      "image/png": "[encoded data removed]",
      "text/plain": [
       "<Figure size 432x288 with 1 Axes>"
      ]
     },
     "metadata": {},
     "output_type": "display_data"
    }
   ],
   "source": [
    "image = text4.dispersion_plot([\"citizens\", \"democracy\", \"freedom\", \"duties\", \"America\"])\n",
    "\n",
    "#check the dispersion plot for \"woman\", \"women\", \"child\", \"family\""
   ]
  },
  {
   "cell_type": "code",
   "execution_count": 27,
   "metadata": {},
   "outputs": [
    {
     "data": {
      "image/png": "[encoded data removed]",
      "text/plain": [
       "<Figure size 432x288 with 1 Axes>"
      ]
     },
     "metadata": {},
     "output_type": "display_data"
    }
   ],
   "source": [
    "image = text4.dispersion_plot([\"woman\", \"women\", \"child\", \"family\"])"
   ]
  },
  {
   "cell_type": "code",
   "execution_count": 11,
   "metadata": {},
   "outputs": [],
   "source": [
    "total_number_words = len(text4)"
   ]
  },
  {
   "cell_type": "code",
   "execution_count": 12,
   "metadata": {},
   "outputs": [],
   "source": [
    "number_unique_words = len(set(text4))"
   ]
  },
  {
   "cell_type": "code",
   "execution_count": 13,
   "metadata": {},
   "outputs": [
    {
     "data": {
      "text/plain": [
       "0.06692970116993173"
      ]
     },
     "execution_count": 13,
     "metadata": {},
     "output_type": "execute_result"
    }
   ],
   "source": [
    "number_unique_words/total_number_words"
   ]
  },
  {
   "cell_type": "code",
   "execution_count": 14,
   "metadata": {},
   "outputs": [
    {
     "data": {
      "text/plain": [
       "14.941049825712529"
      ]
     },
     "execution_count": 14,
     "metadata": {},
     "output_type": "execute_result"
    }
   ],
   "source": [
    "total_number_words/number_unique_words"
   ]
  },
  {
   "cell_type": "code",
   "execution_count": 15,
   "metadata": {},
   "outputs": [
    {
     "name": "stdout",
     "output_type": "stream",
     "text": [
      "old_, mortal_, a_' old_of old_'\n"
     ]
    }
   ],
   "source": [
    "text1.common_contexts([\"woman\",\"man\"])"
   ]
  },
  {
   "cell_type": "code",
   "execution_count": 16,
   "metadata": {},
   "outputs": [
    {
     "name": "stdout",
     "output_type": "stream",
     "text": [
      "a_in a_who young_who a_of a_as a_to young_of of_, a_whose young_.\n",
      "respectable_, charming_, young_, a_, other_in a_whom\n"
     ]
    }
   ],
   "source": [
    "text2.common_contexts([\"woman\",\"man\"])"
   ]
  },
  {
   "cell_type": "code",
   "execution_count": null,
   "metadata": {},
   "outputs": [],
   "source": [
    "lexical_diversity(text3)\n",
    "lexical_diversity(text5)\n",
    "percentage(4, 5)\n",
    "percentage(text4.count('a'), len(text4))"
   ]
  },
  {
   "cell_type": "code",
   "execution_count": 19,
   "metadata": {},
   "outputs": [
    {
     "name": "stdout",
     "output_type": "stream",
     "text": [
      "<FreqDist with 6833 samples and 141576 outcomes>\n"
     ]
    }
   ],
   "source": [
    "fdist2 = FreqDist(text2)\n",
    "print(fdist2)"
   ]
  },
  {
   "cell_type": "code",
   "execution_count": 18,
   "metadata": {},
   "outputs": [
    {
     "data": {
      "text/plain": [
       "FreqDist({',': 9397, 'to': 4063, '.': 3975, 'the': 3861, 'of': 3565, 'and': 3350, 'her': 2436, 'a': 2043, 'I': 2004, 'in': 1904, ...})"
      ]
     },
     "execution_count": 18,
     "metadata": {},
     "output_type": "execute_result"
    }
   ],
   "source": [
    "fdist2"
   ]
  },
  {
   "cell_type": "code",
   "execution_count": 21,
   "metadata": {},
   "outputs": [
    {
     "data": {
      "text/plain": [
       "[(',', 9397),\n",
       " ('to', 4063),\n",
       " ('.', 3975),\n",
       " ('the', 3861),\n",
       " ('of', 3565),\n",
       " ('and', 3350),\n",
       " ('her', 2436),\n",
       " ('a', 2043),\n",
       " ('I', 2004),\n",
       " ('in', 1904),\n",
       " ('was', 1846),\n",
       " ('it', 1568),\n",
       " ('\"', 1506),\n",
       " (';', 1419),\n",
       " ('she', 1333),\n",
       " ('be', 1305),\n",
       " ('that', 1297),\n",
       " ('for', 1234),\n",
       " ('not', 1212),\n",
       " ('as', 1179),\n",
       " ('you', 1037),\n",
       " ('with', 971),\n",
       " ('had', 969),\n",
       " ('his', 941),\n",
       " ('he', 895),\n",
       " (\"'\", 883),\n",
       " ('have', 807),\n",
       " ('at', 806),\n",
       " ('by', 737),\n",
       " ('is', 728),\n",
       " ('.\"', 721),\n",
       " ('s', 700),\n",
       " ('Elinor', 684),\n",
       " ('on', 676),\n",
       " ('all', 642),\n",
       " ('him', 633),\n",
       " ('so', 617),\n",
       " ('but', 597),\n",
       " ('which', 592),\n",
       " ('could', 568),\n",
       " ('Marianne', 566),\n",
       " ('my', 551),\n",
       " ('Mrs', 530),\n",
       " ('from', 527),\n",
       " ('would', 507),\n",
       " ('very', 492),\n",
       " ('no', 488),\n",
       " ('their', 463),\n",
       " ('them', 462),\n",
       " ('--', 461),\n",
       " ('been', 440),\n",
       " ('were', 437),\n",
       " ('me', 433),\n",
       " ('they', 428),\n",
       " ('more', 406),\n",
       " ('said', 397),\n",
       " (',\"', 396),\n",
       " ('any', 389),\n",
       " ('what', 375),\n",
       " ('this', 372),\n",
       " ('-', 366),\n",
       " ('every', 361),\n",
       " ('than', 360),\n",
       " ('will', 354),\n",
       " ('or', 353),\n",
       " ('your', 347),\n",
       " ('an', 346),\n",
       " ('such', 340),\n",
       " ('one', 304),\n",
       " ('do', 296),\n",
       " ('But', 289),\n",
       " ('!', 289),\n",
       " ('much', 287),\n",
       " ('sister', 282),\n",
       " ('only', 282),\n",
       " ('must', 279),\n",
       " ('own', 271),\n",
       " ('am', 270),\n",
       " ('Edward', 262),\n",
       " ('when', 261),\n",
       " ('who', 260),\n",
       " ('mother', 258),\n",
       " ('She', 258),\n",
       " ('herself', 255),\n",
       " ('Dashwood', 252),\n",
       " ('if', 249),\n",
       " ('The', 243),\n",
       " ('time', 237),\n",
       " ('know', 230),\n",
       " ('Jennings', 230),\n",
       " ('should', 228),\n",
       " ('are', 224),\n",
       " ('might', 215),\n",
       " ('Willoughby', 215),\n",
       " ('?\"', 213),\n",
       " ('did', 211),\n",
       " ('now', 210),\n",
       " ('there', 209),\n",
       " ('think', 209),\n",
       " ('Miss', 208)]"
      ]
     },
     "execution_count": 21,
     "metadata": {},
     "output_type": "execute_result"
    }
   ],
   "source": [
    "fdist2.most_common(100)"
   ]
  },
  {
   "cell_type": "code",
   "execution_count": null,
   "metadata": {},
   "outputs": [],
   "source": [
    "# practice with table 4.2"
   ]
  },
  {
   "cell_type": "markdown",
   "metadata": {},
   "source": [
    "#Required HW: Exercises 5 and 6\n",
    "☼ Compare the lexical diversity scores for humor and romance fiction in 1.1. Which genre is more lexically diverse?\n",
    "\n",
    "☼ Produce a dispersion plot of the four main protagonists in Sense and Sensibility: Elinor, Marianne, Edward, and Willoughby. What can you observe about the different roles played by the males and females in this novel? Can you identify the couples?"
   ]
  }
 ],
 "metadata": {
  "kernelspec": {
   "display_name": "Python 3",
   "language": "python",
   "name": "python3"
  },
  "language_info": {
   "codemirror_mode": {
    "name": "ipython",
    "version": 3
   },
   "file_extension": ".py",
   "mimetype": "text/x-python",
   "name": "python",
   "nbconvert_exporter": "python",
   "pygments_lexer": "ipython3",
   "version": "3.6.2"
  }
 },
 "nbformat": 4,
 "nbformat_minor": 2
}
